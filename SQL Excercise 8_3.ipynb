{
 "cells": [
  {
   "cell_type": "code",
   "execution_count": 2,
   "id": "b4730d79",
   "metadata": {},
   "outputs": [],
   "source": [
    "import sqlite3\n",
    "from sqlite3 import Error"
   ]
  },
  {
   "cell_type": "code",
   "execution_count": 3,
   "id": "6967e7f6",
   "metadata": {},
   "outputs": [],
   "source": [
    " def create_connection(db_file):\n",
    "    \"\"\" create a database connection to the SQLite database\n",
    "        specified by the db_file\n",
    "    :param db_file: database file\n",
    "    :return: Connection object or None\n",
    "    \"\"\"\n",
    "    conn = None\n",
    "    try:\n",
    "        conn = sqlite3.connect(db_file)\n",
    "        print(sqlite3.version)\n",
    "    except Error as e:\n",
    "        print(e)\n",
    " \n",
    "    return conn\n"
   ]
  },
  {
   "cell_type": "code",
   "execution_count": 4,
   "id": "368e5e93",
   "metadata": {},
   "outputs": [
    {
     "name": "stdout",
     "output_type": "stream",
     "text": [
      "2.6.0\n"
     ]
    }
   ],
   "source": [
    "database = \"sqlite_db_pythonsqlite.db\"\n",
    "# create a database connection\n",
    "conn = create_connection(database)"
   ]
  },
  {
   "cell_type": "code",
   "execution_count": 5,
   "id": "8c3bb4c1",
   "metadata": {},
   "outputs": [],
   "source": [
    "def task10(conn):\n",
    "    cur = conn.cursor()\n",
    "    query = \"\"\"\n",
    "        SELECT * \n",
    "        From (\n",
    "            SELECT \n",
    "                f.name AS facility, \n",
    "                SUM(CASE WHEN b.memid > 0 THEN b.slots*f.membercost\n",
    "                     ELSE b.slots*f.guestcost END) AS total_revenue\n",
    "            FROM Bookings as b\n",
    "            LEFT JOIN Facilities AS f\n",
    "            ON b.facid = f.facid\n",
    "            GROUP BY b.facid\n",
    "            ) \n",
    "        WHERE total_revenue < 1000\n",
    "        ORDER BY total_revenue\n",
    "        \"\"\"\n",
    "    cur.execute(query)\n",
    "    rows = cur.fetchall()\n",
    " \n",
    "    for row in rows:\n",
    "        print(row)"
   ]
  },
  {
   "cell_type": "code",
   "execution_count": 6,
   "id": "8ff2d814",
   "metadata": {},
   "outputs": [
    {
     "name": "stdout",
     "output_type": "stream",
     "text": [
      "Q10: Produce a list of facilities with a total revenue less than 1000.The output of facility name and total revenue, sorted by revenue. Remember that there's a different cost for guests and members! \n",
      "('Table Tennis', 180)\n",
      "('Snooker Table', 240)\n",
      "('Pool Table', 270)\n"
     ]
    }
   ],
   "source": [
    "with conn: \n",
    "    print(\"Q10: Produce a list of facilities with a total revenue less than 1000.The output of facility name and total revenue, sorted by revenue. Remember that there's a different cost for guests and members! \")\n",
    "    task10(conn)\n"
   ]
  },
  {
   "cell_type": "code",
   "execution_count": 7,
   "id": "b0982c42",
   "metadata": {},
   "outputs": [],
   "source": [
    "def task11(conn):\n",
    "    cur = conn.cursor()\n",
    "    query = \"\"\"\n",
    "        SELECT \n",
    "            m1.firstname || ' ' || m1.surname AS name, \n",
    "            m2.firstname || ' ' || m2.surname AS recommendedby\n",
    "        FROM Members AS m1\n",
    "        LEFT JOIN Members AS m2\n",
    "        ON m1.recommendedby = m2.memid\n",
    "        ORDER BY m1.surname\n",
    "        \"\"\"\n",
    "    cur.execute(query)\n",
    "    rows = cur.fetchall()\n",
    " \n",
    "    for row in rows:\n",
    "        print(row)"
   ]
  },
  {
   "cell_type": "code",
   "execution_count": 8,
   "id": "3b18cd94",
   "metadata": {},
   "outputs": [
    {
     "name": "stdout",
     "output_type": "stream",
     "text": [
      "Q11: Produce a report of members and who recommended them in alphabetic surname,firstname order\n",
      "('Florence Bader', 'Ponder Stibbons')\n",
      "('Anne Baker', 'Ponder Stibbons')\n",
      "('Timothy Baker', 'Jemima Farrell')\n",
      "('Tim Boothe', 'Tim Rownam')\n",
      "('Gerald Butters', 'Darren Smith')\n",
      "('Joan Coplin', 'Timothy Baker')\n",
      "('Erica Crumpet', 'Tracy Smith')\n",
      "('Nancy Dare', 'Janice Joplette')\n",
      "('Jemima Farrell', None)\n",
      "('David Farrell', None)\n",
      "('GUEST GUEST', None)\n",
      "('Matthew Genting', 'Gerald Butters')\n",
      "('John Hunt', 'Millicent Purview')\n",
      "('David Jones', 'Janice Joplette')\n",
      "('Douglas Jones', 'David Jones')\n",
      "('Janice Joplette', 'Darren Smith')\n",
      "('Anna Mackenzie', 'Darren Smith')\n",
      "('Charles Owen', 'Darren Smith')\n",
      "('David Pinker', 'Jemima Farrell')\n",
      "('Millicent Purview', 'Tracy Smith')\n",
      "('Tim Rownam', None)\n",
      "('Henrietta Rumney', 'Matthew Genting')\n",
      "('Ramnaresh Sarwin', 'Florence Bader')\n",
      "('Darren Smith', None)\n",
      "('Tracy Smith', None)\n",
      "('Jack Smith', 'Darren Smith')\n",
      "('Darren Smith', None)\n",
      "('Ponder Stibbons', 'Burton Tracy')\n",
      "('Burton Tracy', None)\n",
      "('Hyacinth Tupperware', None)\n",
      "('Henry Worthington-Smyth', 'Tracy Smith')\n"
     ]
    }
   ],
   "source": [
    "print('Q11: Produce a report of members and who recommended them in alphabetic surname,firstname order')\n",
    "task11(conn)"
   ]
  },
  {
   "cell_type": "code",
   "execution_count": 10,
   "id": "f0df43b1",
   "metadata": {},
   "outputs": [],
   "source": [
    "def task12(conn):\n",
    "    cur = conn.cursor()\n",
    "    query = \"\"\"\n",
    "        SELECT f.name AS facility, SUM(b.slots) AS total_slots\n",
    "        FROM Bookings as b\n",
    "        LEFT JOIN Facilities AS f \n",
    "        ON b.facid = f.facid\n",
    "        LEFT JOIN Members AS m\n",
    "        ON b.memid = m.memid\n",
    "        WHERE m.memid > 0\n",
    "        GROUP BY b.facid\n",
    "        ORDER BY total_slots DESC\n",
    "        \"\"\"\n",
    "    cur.execute(query)\n",
    "    rows = cur.fetchall()\n",
    " \n",
    "    for row in rows:\n",
    "        print(row)"
   ]
  },
  {
   "cell_type": "code",
   "execution_count": 11,
   "id": "463824bc",
   "metadata": {},
   "outputs": [
    {
     "name": "stdout",
     "output_type": "stream",
     "text": [
      "Q12: Find the facilities with their usage by member, but not guests\n",
      "('Badminton Court', 1086)\n",
      "('Tennis Court 1', 957)\n",
      "('Massage Room 1', 884)\n",
      "('Tennis Court 2', 882)\n",
      "('Snooker Table', 860)\n",
      "('Pool Table', 856)\n",
      "('Table Tennis', 794)\n",
      "('Squash Court', 418)\n",
      "('Massage Room 2', 54)\n"
     ]
    }
   ],
   "source": [
    "print('Q12: Find the facilities with their usage by member, but not guests')\n",
    "task12(conn)"
   ]
  },
  {
   "cell_type": "code",
   "execution_count": 12,
   "id": "10f05dfe",
   "metadata": {},
   "outputs": [],
   "source": [
    "def task13(conn):\n",
    "    cur = conn.cursor()\n",
    "    query = \"\"\"\n",
    "        SELECT\n",
    "            f.name AS facility,\n",
    "            strftime('%m', b.starttime) AS month,\n",
    "            SUM(b.slots) AS total_slots\n",
    "        FROM Bookings as b\n",
    "        LEFT JOIN Facilities AS f \n",
    "        ON b.facid = f.facid\n",
    "        LEFT JOIN Members AS m\n",
    "        ON b.memid = m.memid\n",
    "        WHERE m.memid > 0\n",
    "        GROUP BY month, b.facid\n",
    "        ORDER BY facility, month          \n",
    "        \"\"\"\n",
    "    cur.execute(query)\n",
    "    rows = cur.fetchall()\n",
    " \n",
    "    for row in rows:\n",
    "        print(row)\n",
    "\n",
    "\n"
   ]
  },
  {
   "cell_type": "code",
   "execution_count": 13,
   "id": "2d89c1a6",
   "metadata": {},
   "outputs": [
    {
     "name": "stdout",
     "output_type": "stream",
     "text": [
      "Q13: Find the facilities usage by month, but not guests \n",
      "('Badminton Court', '07', 165)\n",
      "('Badminton Court', '08', 414)\n",
      "('Badminton Court', '09', 507)\n",
      "('Massage Room 1', '07', 166)\n",
      "('Massage Room 1', '08', 316)\n",
      "('Massage Room 1', '09', 402)\n",
      "('Massage Room 2', '07', 8)\n",
      "('Massage Room 2', '08', 18)\n",
      "('Massage Room 2', '09', 28)\n",
      "('Pool Table', '07', 110)\n",
      "('Pool Table', '08', 303)\n",
      "('Pool Table', '09', 443)\n",
      "('Snooker Table', '07', 140)\n",
      "('Snooker Table', '08', 316)\n",
      "('Snooker Table', '09', 404)\n",
      "('Squash Court', '07', 50)\n",
      "('Squash Court', '08', 184)\n",
      "('Squash Court', '09', 184)\n",
      "('Table Tennis', '07', 98)\n",
      "('Table Tennis', '08', 296)\n",
      "('Table Tennis', '09', 400)\n",
      "('Tennis Court 1', '07', 201)\n",
      "('Tennis Court 1', '08', 339)\n",
      "('Tennis Court 1', '09', 417)\n",
      "('Tennis Court 2', '07', 123)\n",
      "('Tennis Court 2', '08', 345)\n",
      "('Tennis Court 2', '09', 414)\n"
     ]
    }
   ],
   "source": [
    "print('Q13: Find the facilities usage by month, but not guests ')\n",
    "task13(conn)"
   ]
  },
  {
   "cell_type": "code",
   "execution_count": null,
   "id": "66b6d6c8",
   "metadata": {},
   "outputs": [],
   "source": []
  }
 ],
 "metadata": {
  "kernelspec": {
   "display_name": "Python 3 (ipykernel)",
   "language": "python",
   "name": "python3"
  },
  "language_info": {
   "codemirror_mode": {
    "name": "ipython",
    "version": 3
   },
   "file_extension": ".py",
   "mimetype": "text/x-python",
   "name": "python",
   "nbconvert_exporter": "python",
   "pygments_lexer": "ipython3",
   "version": "3.10.4"
  }
 },
 "nbformat": 4,
 "nbformat_minor": 5
}
